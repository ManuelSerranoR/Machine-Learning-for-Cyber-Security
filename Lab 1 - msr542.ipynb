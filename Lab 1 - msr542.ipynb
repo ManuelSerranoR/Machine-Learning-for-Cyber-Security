{
 "cells": [
  {
   "cell_type": "markdown",
   "metadata": {},
   "source": [
    "## EL-GY-9133 Machine Learning for Cyber-Security\n",
    "### Lab 1: E-mail Spam Filtering\n",
    "##### Release Date: 02/22/2018; Due Date: Midnight, 03/07/2018"
   ]
  },
  {
   "cell_type": "markdown",
   "metadata": {},
   "source": [
    "Student Name: Manuel Serrano Rebuelta\n",
    "\n",
    "Student Netid: msr542"
   ]
  },
  {
   "cell_type": "code",
   "execution_count": 263,
   "metadata": {},
   "outputs": [],
   "source": [
    "from sklearn.feature_selection import mutual_info_classif\n",
    "from sklearn.feature_selection import SelectKBest\n",
    "from sklearn.feature_extraction.text import CountVectorizer\n",
    "from sklearn.naive_bayes import BernoulliNB\n",
    "from sklearn.naive_bayes import MultinomialNB\n",
    "import pandas as pd\n",
    "import glob\n",
    "from sklearn.pipeline import Pipeline\n",
    "from sklearn.metrics import accuracy_score\n",
    "from sklearn.metrics import precision_score\n",
    "from sklearn.metrics import recall_score\n",
    "from sklearn import svm"
   ]
  },
  {
   "cell_type": "code",
   "execution_count": 254,
   "metadata": {},
   "outputs": [],
   "source": [
    "### Load all emails and labels in a data frame ###\n",
    "\n",
    "data_train = pd.DataFrame(columns=['X', 'y'])\n",
    "data_test = pd.DataFrame(columns=['X', 'y'])\n",
    "count_train = 0\n",
    "count_test = 0\n",
    "\n",
    "#Iterate over the 9 folds\n",
    "for i in range(1, 11):\n",
    "    #Load spam emails\n",
    "    for spam_path in glob.glob('lingspam_public/lemm_stop/part'+str(i)+'/spm*.txt'):\n",
    "        with open(spam_path, 'r') as spam_file:\n",
    "            opened_spam_file = spam_file.read().replace('\\n', '')\n",
    "            if(i==10):\n",
    "                data_test.loc[count_test] = [opened_spam_file, 1]\n",
    "                count_test += 1\n",
    "            else:\n",
    "                data_train.loc[count_train] = [opened_spam_file, 1]\n",
    "                count_train += 1\n",
    "            \n",
    "    #Load legitimate emails\n",
    "    for legit_path in glob.glob('lingspam_public/lemm_stop/part'+str(i)+'/[!spm]*.txt'):\n",
    "        with open(legit_path, 'r') as legit_file:\n",
    "            opened_legit_file = legit_file.read().replace('\\n', '')\n",
    "            if(i==10):\n",
    "                data_test.loc[count_test] = [opened_legit_file, 0]\n",
    "                count_test += 1\n",
    "            else:\n",
    "                data_train.loc[count_train] = [opened_legit_file, 0]\n",
    "                count_train += 1"
   ]
  },
  {
   "cell_type": "code",
   "execution_count": 255,
   "metadata": {
    "scrolled": true
   },
   "outputs": [],
   "source": [
    "### Manually create our document-term matrix (binary, since we are not counting terms)\n",
    "### Then, we calculate information gain of all terms within the dataset\n",
    "### Once we have calculated all, we could select the top-N ones, and discard the rest features (feature selection)\n",
    "\n",
    "CV = CountVectorizer(binary=True)\n",
    "X_vectorized = CV.fit_transform(data_train['X'])\n",
    "info_gain_features = dict(zip(CV.get_feature_names(), \n",
    "                              feature_selection.mutual_info_classif(X_vectorized, data_train['y'].tolist())))\n",
    "# Print terms with higher information gain\n",
    "sorted(info_gain_features, key=info_gain_features.get)[-10:];"
   ]
  },
  {
   "cell_type": "code",
   "execution_count": 256,
   "metadata": {},
   "outputs": [],
   "source": [
    "### It turns out there is a faster, more Pythonic way to do this. This is, creating a pipeline and using SelectKBest\n",
    "\n",
    "N = [10, 100, 1000]\n",
    "classifiers = {}\n",
    "\n",
    "for i in N:\n",
    "    classifiers['Bernoulli_{0}'.format(i)] = Pipeline([('vectorizer', CountVectorizer(binary=True)),\n",
    "                                                       ('feature_selector', SelectKBest(mutual_info_classif, k=i)), \n",
    "                                                       ('classifier', BernoulliNB())])\n",
    "    classifiers['Multinomial_{0}'.format(i)] = Pipeline([('vectorizer', CountVectorizer(binary=True)),\n",
    "                                                       ('feature_selector', SelectKBest(mutual_info_classif, k=i)), \n",
    "                                                       ('classifier', MultinomialNB())])\n",
    "    # Double check this one\n",
    "    classifiers['MultinomialTF_{0}'.format(i)] = Pipeline([('vectorizer', CountVectorizer()),\n",
    "                                                       ('feature_selector', SelectKBest(mutual_info_classif, k=i)), \n",
    "                                                       ('classifier', MultinomialNB())])"
   ]
  },
  {
   "cell_type": "code",
   "execution_count": 257,
   "metadata": {
    "scrolled": false
   },
   "outputs": [],
   "source": [
    "for i in classifiers:\n",
    "    classifiers[i].fit(data_train['X'], data_train['y'].tolist())"
   ]
  },
  {
   "cell_type": "code",
   "execution_count": 261,
   "metadata": {},
   "outputs": [
    {
     "name": "stdout",
     "output_type": "stream",
     "text": [
      "Bernoulli_10\n",
      "Multinomial_10\n",
      "MultinomialTF_10\n",
      "Bernoulli_100\n",
      "Multinomial_100\n",
      "MultinomialTF_100\n",
      "Bernoulli_1000\n",
      "Multinomial_1000\n",
      "MultinomialTF_1000\n"
     ]
    }
   ],
   "source": [
    "results = []\n",
    "for count, i in enumerate(classifiers):\n",
    "    print(i)\n",
    "    results.append([])\n",
    "    y_test_pred = classifiers[i].predict(data_test['X'])\n",
    "    results[count].append(accuracy_score(data_test['y'].tolist(), y_test_pred))\n",
    "    results[count].append(precision_score(data_test['y'].tolist(), y_test_pred))\n",
    "    results[count].append(recall_score(data_test['y'].tolist(), y_test_pred))"
   ]
  },
  {
   "cell_type": "code",
   "execution_count": 262,
   "metadata": {},
   "outputs": [
    {
     "data": {
      "text/plain": [
       "[[0.94501718213058417, 0.8666666666666667, 0.79591836734693877],\n",
       " [0.94845360824742264, 0.88636363636363635, 0.79591836734693877],\n",
       " [0.95876288659793818, 0.84905660377358494, 0.91836734693877553],\n",
       " [0.94501718213058417, 1.0, 0.67346938775510201],\n",
       " [0.97938144329896903, 0.97777777777777775, 0.89795918367346939],\n",
       " [0.98281786941580751, 0.95833333333333337, 0.93877551020408168],\n",
       " [0.93470790378006874, 1.0, 0.61224489795918369],\n",
       " [0.98969072164948457, 1.0, 0.93877551020408168],\n",
       " [0.98969072164948457, 1.0, 0.93877551020408168]]"
      ]
     },
     "execution_count": 262,
     "metadata": {},
     "output_type": "execute_result"
    }
   ],
   "source": [
    "results"
   ]
  },
  {
   "cell_type": "code",
   "execution_count": 264,
   "metadata": {},
   "outputs": [
    {
     "data": {
      "text/plain": [
       "Pipeline(memory=None,\n",
       "     steps=[('vectorizer', CountVectorizer(analyzer='word', binary=False, decode_error='strict',\n",
       "        dtype=<class 'numpy.int64'>, encoding='utf-8', input='content',\n",
       "        lowercase=True, max_df=1.0, max_features=None, min_df=1,\n",
       "        ngram_range=(1, 1), preprocessor=None, stop_words=None,\n",
       "       ...,\n",
       "  max_iter=-1, probability=False, random_state=None, shrinking=True,\n",
       "  tol=0.001, verbose=False))])"
      ]
     },
     "execution_count": 264,
     "metadata": {},
     "output_type": "execute_result"
    }
   ],
   "source": [
    "### SVM ###\n",
    "\n",
    "SVM_classifier = Pipeline([('vectorizer', CountVectorizer()), ('svm', svm.SVC(kernel='linear'))])\n",
    "SVM_classifier.fit(data_train['X'], data_train['y'].tolist())"
   ]
  },
  {
   "cell_type": "code",
   "execution_count": 268,
   "metadata": {},
   "outputs": [],
   "source": [
    "results_SVM = []\n",
    "y_test_pred = SVM_classifier.predict(data_test['X'])\n",
    "results_SVM.append(accuracy_score(data_test['y'].tolist(), y_test_pred))\n",
    "results_SVM.append(precision_score(data_test['y'].tolist(), y_test_pred))\n",
    "results_SVM.append(recall_score(data_test['y'].tolist(), y_test_pred))"
   ]
  },
  {
   "cell_type": "code",
   "execution_count": 269,
   "metadata": {},
   "outputs": [
    {
     "data": {
      "text/plain": [
       "[0.96907216494845361, 0.90000000000000002, 0.91836734693877553]"
      ]
     },
     "execution_count": 269,
     "metadata": {},
     "output_type": "execute_result"
    }
   ],
   "source": [
    "results_SVM"
   ]
  },
  {
   "cell_type": "code",
   "execution_count": null,
   "metadata": {},
   "outputs": [],
   "source": []
  }
 ],
 "metadata": {
  "kernelspec": {
   "display_name": "Python 3",
   "language": "python",
   "name": "python3"
  },
  "language_info": {
   "codemirror_mode": {
    "name": "ipython",
    "version": 3
   },
   "file_extension": ".py",
   "mimetype": "text/x-python",
   "name": "python",
   "nbconvert_exporter": "python",
   "pygments_lexer": "ipython3",
   "version": "3.6.2"
  }
 },
 "nbformat": 4,
 "nbformat_minor": 2
}
